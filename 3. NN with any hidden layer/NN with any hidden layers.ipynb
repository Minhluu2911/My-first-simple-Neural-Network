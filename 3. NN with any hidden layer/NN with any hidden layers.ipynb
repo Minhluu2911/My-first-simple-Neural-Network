{
 "cells": [
  {
   "cell_type": "code",
   "execution_count": 1,
   "id": "cb546f4f",
   "metadata": {},
   "outputs": [],
   "source": [
    "import time\n",
    "import numpy as np\n",
    "import h5py\n",
    "import matplotlib.pyplot as plt\n",
    "import scipy\n",
    "from PIL import Image\n",
    "from scipy import ndimage\n",
    "import rando\n",
    "\n",
    "%matplotlib inline\n",
    "plt.rcParams['figure.figsize'] = (5.0, 4.0) # set default size of plots\n",
    "plt.rcParams['image.interpolation'] = 'nearest'\n",
    "plt.rcParams['image.cmap'] = 'gray'\n",
    "\n",
    "%load_ext autoreload\n",
    "%autoreload 2\n",
    "\n",
    "np.random.seed(1)"
   ]
  },
  {
   "cell_type": "markdown",
   "id": "124acc8f",
   "metadata": {},
   "source": [
    "# Load data"
   ]
  },
  {
   "cell_type": "code",
   "execution_count": 2,
   "id": "274fc619",
   "metadata": {},
   "outputs": [],
   "source": [
    "def load_data():\n",
    "    train_dataset = h5py.File('datasets/train_catvnoncat.h5', \"r\")\n",
    "    train_set_x_orig = np.array(train_dataset[\"train_set_x\"][:]) # your train set features\n",
    "    train_set_y_orig = np.array(train_dataset[\"train_set_y\"][:]) # your train set labels\n",
    "\n",
    "    test_dataset = h5py.File('datasets/test_catvnoncat.h5', \"r\")\n",
    "    test_set_x_orig = np.array(test_dataset[\"test_set_x\"][:]) # your test set features\n",
    "    test_set_y_orig = np.array(test_dataset[\"test_set_y\"][:]) # your test set labels\n",
    "\n",
    "    classes = np.array(test_dataset[\"list_classes\"][:]) # the list of classes\n",
    "    \n",
    "    train_set_y_orig = train_set_y_orig.reshape((1, train_set_y_orig.shape[0]))\n",
    "    test_set_y_orig = test_set_y_orig.reshape((1, test_set_y_orig.shape[0]))\n",
    "    \n",
    "    return train_set_x_orig, train_set_y_orig, test_set_x_orig, test_set_y_orig, classes"
   ]
  },
  {
   "cell_type": "code",
   "execution_count": 3,
   "id": "f95fc11a",
   "metadata": {},
   "outputs": [],
   "source": [
    "train_x_orig, train_y, test_x_orig, test_y, classes = load_data()"
   ]
  },
  {
   "cell_type": "code",
   "execution_count": 4,
   "id": "78c13de0",
   "metadata": {},
   "outputs": [
    {
     "name": "stdout",
     "output_type": "stream",
     "text": [
      "y = 0. It's a non-cat picture.\n"
     ]
    },
    {
     "data": {
      "image/png": "[encoded data removed]",
      "text/plain": [
       "<Figure size 360x288 with 1 Axes>"
      ]
     },
     "metadata": {
      "needs_background": "light"
     },
     "output_type": "display_data"
    }
   ],
   "source": [
    "# Example of a picture\n",
    "index = 10\n",
    "plt.imshow(train_x_orig[index])\n",
    "print (\"y = \" + str(train_y[0,index]) + \". It's a \" + classes[train_y[0,index]].decode(\"utf-8\") +  \" picture.\")"
   ]
  },
  {
   "cell_type": "code",
   "execution_count": 5,
   "id": "9341f889",
   "metadata": {},
   "outputs": [
    {
     "name": "stdout",
     "output_type": "stream",
     "text": [
      "Number of training examples: 209\n",
      "Number of testing examples: 50\n",
      "Each image is of size: (64, 64, 3)\n",
      "train_x_orig shape: (209, 64, 64, 3)\n",
      "train_y shape: (1, 209)\n",
      "test_x_orig shape: (50, 64, 64, 3)\n",
      "test_y shape: (1, 50)\n"
     ]
    }
   ],
   "source": [
    "# Explore your dataset \n",
    "m_train = train_x_orig.shape[0]\n",
    "num_px = train_x_orig.shape[1]\n",
    "m_test = test_x_orig.shape[0]\n",
    "\n",
    "print (\"Number of training examples: \" + str(m_train))\n",
    "print (\"Number of testing examples: \" + str(m_test))\n",
    "print (\"Each image is of size: (\" + str(num_px) + \", \" + str(num_px) + \", 3)\")\n",
    "print (\"train_x_orig shape: \" + str(train_x_orig.shape))\n",
    "print (\"train_y shape: \" + str(train_y.shape))\n",
    "print (\"test_x_orig shape: \" + str(test_x_orig.shape))\n",
    "print (\"test_y shape: \" + str(test_y.shape))"
   ]
  },
  {
   "cell_type": "markdown",
   "id": "6b85ffc8",
   "metadata": {},
   "source": [
    "As usual, you reshape and standardize the images before feeding them to the network. The code is given in the cell below.\n",
    "\n",
    "<img src=\"images/imvectorkiank.png\" style=\"width:450px;height:300px;\">\n",
    "\n",
    "<caption><center> <u>Figure 1</u>: Image to vector conversion. <br> </center></caption>"
   ]
  },
  {
   "cell_type": "code",
   "execution_count": 6,
   "id": "28f6fe88",
   "metadata": {},
   "outputs": [
    {
     "name": "stdout",
     "output_type": "stream",
     "text": [
      "train_x's shape: (12288, 209)\n",
      "test_x's shape: (12288, 50)\n"
     ]
    }
   ],
   "source": [
    "# Reshape the training and test examples \n",
    "train_x_flatten = train_x_orig.reshape(train_x_orig.shape[0], -1).T   # The \"-1\" makes reshape flatten the remaining dimensions\n",
    "test_x_flatten = test_x_orig.reshape(test_x_orig.shape[0], -1).T\n",
    "\n",
    "# Standardize data to have feature values between 0 and 1.\n",
    "train_x = train_x_flatten/255.\n",
    "test_x = test_x_flatten/255.\n",
    "\n",
    "print (\"train_x's shape: \" + str(train_x.shape))\n",
    "print (\"test_x's shape: \" + str(test_x.shape))\n"
   ]
  },
  {
   "cell_type": "markdown",
   "id": "1b66afde",
   "metadata": {},
   "source": [
    "\n",
    "# NN with any hidden layers\n",
    "- Initialize the parameters\n",
    "- Implement the forward propagation\n",
    "- Compute the loss.\n",
    "- Implement the backward propagation module (denoted in red in the figure below).\n",
    "- Finally update the parameters.\n",
    "\n",
    "<img src=\"images/final outline.png\" style=\"width:800px;height:500px;\">\n",
    "\n",
    "**Note** that for every forward function, there is a corresponding backward function. That is why at every step of your forward module you will be storing some values in a cache. The cached values are useful for computing gradients. In the backpropagation module you will then use the cache to calculate the gradients."
   ]
  },
  {
   "cell_type": "code",
   "execution_count": 77,
   "id": "f2ea8c3d",
   "metadata": {},
   "outputs": [],
   "source": [
    "import numpy as np\n",
    "\n",
    "\n",
    "class ActiveFunc:\n",
    "    def sigmoid(self, Z):\n",
    "        A = 1 / (1 + np.exp(-Z))\n",
    "        return A\n",
    "\n",
    "    def sigmoid_backward(self, Z):\n",
    "        A = self.sigmoid(Z)\n",
    "        dZ = A*(1-A)\n",
    "        assert(dZ.shape == Z.shape)\n",
    "        return dZ\n",
    "\n",
    "    def tanh(self, Z):\n",
    "        A = (np.exp(Z) - np.exp(-Z)) / (np.exp(Z) + np.exp(-Z))\n",
    "        return A\n",
    "\n",
    "    def tanh_backward(self, Z):\n",
    "        A = self.tanh(Z)\n",
    "        dZ = 1 - np.power(A, 2)\n",
    "        assert(dZ.shape == Z.shape)\n",
    "        return dZ\n",
    "\n",
    "    def relu(self, Z):\n",
    "        A = np.maximum(0, Z)\n",
    "        assert(A.shape == Z.shape)\n",
    "        return A\n",
    "\n",
    "    def relu_backward(self, Z):\n",
    "        dZ = self.relu(Z)\n",
    "        dZ[Z <= 0] = 0\n",
    "        # dZ[Z > 0] = 1\n",
    "        assert(dZ.shape == Z.shape)\n",
    "        return dZ\n",
    "\n",
    "\n",
    "class NNmodel(ActiveFunc):\n",
    "    def __init__(self):\n",
    "        pass\n",
    "\n",
    "    def initialize_parameters(self, layer_dims):\n",
    "        np.random.seed(1)  # setting the seed for receiving constant output\n",
    "        parameters = {}\n",
    "        for l in range(1, self.L + 1):\n",
    "            parameters['W'+str(l)] = np.random.randn(layer_dims[l],\n",
    "                                                     layer_dims[l-1])/np.sqrt(layer_dims[l-1])\n",
    "            parameters['b'+str(l)] = np.zeros((layer_dims[l], 1))\n",
    "            \n",
    "            assert(parameters['W' + str(l)].shape == (layer_dims[l], layer_dims[l-1]))\n",
    "            assert(parameters['b' + str(l)].shape == (layer_dims[l], 1))\n",
    "\n",
    "        return parameters\n",
    "\n",
    "    def forward_propagation(self, X):\n",
    "        self.caches = {\n",
    "            ''\n",
    "            'A0': X\n",
    "        }\n",
    "        for l in range(1, self.L + 1):\n",
    "            \n",
    "            \n",
    "            W_L = self.parameters['W' + str(l)]\n",
    "            b_L = self.parameters['b' + str(l)]\n",
    "            Z_L = np.dot(W_L, self.caches['A'+str(l-1)]) + b_L\n",
    "            \n",
    "            \n",
    "            if l == self.L:\n",
    "                A_L = self.sigmoid(Z_L)\n",
    "            else:\n",
    "                A_L = self.sigmoid(Z_L)\n",
    "            \n",
    "            \n",
    "\n",
    "            assert (A_L.shape == (W_L.shape[0], self.caches['A'+str(l-1)].shape[1]))\n",
    "            \n",
    "            self.caches['Z'+str(l)] = Z_L\n",
    "            self.caches['A'+str(l)] = A_L\n",
    "\n",
    "        return\n",
    "\n",
    "    def backward_propagation(self, Y):\n",
    "        \n",
    "        L = self.L  # number of layers\n",
    "\n",
    "        AL = self.caches['A'+str(L)]  # activation of the output layer\n",
    "\n",
    "        # gradient of J with respected to A from output layer\n",
    "        dA = - (np.divide(Y, AL) - np.divide(1-Y, 1 - AL))\n",
    "        self.grads = {\n",
    "            'dA'+str(L): dA\n",
    "        }\n",
    "        m = Y.shape[1]\n",
    "\n",
    "        for l in range(L,0,-1):\n",
    "            # output layer\n",
    "            if l == L:\n",
    "                dZ = self.grads['dA'+str(L)] * \\\n",
    "                    self.sigmoid_backward(self.caches['Z'+str(l)])\n",
    "\n",
    "            # hidden layers\n",
    "            else:\n",
    "                dZ = self.grads['dA'+str(L)]*self.sigmoid_backward(self.caches['Z'+str(l)])\n",
    "\n",
    "            dW = (1/m)*np.dot(dZ, self.caches['A'+str(l-1)].T)\n",
    "            db = (1/m)*np.sum(dZ, axis=1, keepdims=True)\n",
    "            dA_prev = np.dot(self.parameters['W'+str(l)].T, dZ)\n",
    "\n",
    "            self.grads['dZ'+str(l)] = dZ\n",
    "            self.grads['dW'+str(l)] = dW\n",
    "            self.grads['db'+str(l)] = db\n",
    "            self.grads['dA'+str(l-1)] = dA_prev\n",
    "\n",
    "        return \n",
    "\n",
    "    def update_parameters(self, lr):\n",
    "        \n",
    "        for l in range(1, self.L+1):\n",
    "            self.parameters['W'+str(l)] = self.parameters['W'+str(l)\n",
    "                                                ] - lr * self.grads['dW'+str(l)]\n",
    "            self.parameters['b'+str(l)] = self.parameters['b'+str(l)\n",
    "                                                ] - lr * self.grads['db'+str(l)]\n",
    "\n",
    "        return \n",
    "\n",
    "    def compute_cost(self, Y):\n",
    "        A = self.caches['A'+str(self.L)]\n",
    "        m = Y.shape[1]\n",
    "        cost = - (np.dot(np.log(A), Y.T) + np.dot(np.log(1-A), (1-Y).T)) / m\n",
    "\n",
    "        cost = np.squeeze(cost)\n",
    "        assert (cost.shape == ())\n",
    "\n",
    "        return cost\n",
    "\n",
    "    def predict(self, X):\n",
    "        self.forward_propagation(X)\n",
    "        predictions = np.round(self.caches['A'+str(self.L)])\n",
    "        return predictions\n",
    "\n",
    "    def compute_accuracy(self, X, Y):\n",
    "        predictions = self.predict(X)\n",
    "        accuracy = np.squeeze(100.0 - np.mean(np.abs(predictions - Y))*100)\n",
    "        return accuracy\n",
    "\n",
    "    def fit(self, X, Y, layer_dims, lr=0.01, iters=2000, printCost=False):\n",
    "        '''\n",
    "        X: input have shape (n_x, m) with m is the number of training example\n",
    "        Y: output have shape (n_y, m)\n",
    "        layer_dims: dimenssion of each layer from left to right respectively. Assuming the first and the last element is n_x and n_y\n",
    "        lr: learning rate for adjust the speed for training model\n",
    "        iters: number of iteration for training model\n",
    "        printCost: set True if you want to see the cost\n",
    "        -------------------------------------------------\n",
    "        '''\n",
    "        # number of layers in our network\n",
    "        self.L = len(layer_dims)-1  # do not count the input layer\n",
    "        np.random.seed(1)\n",
    "        # store the parameters W, b\n",
    "        self.parameters = self.initialize_parameters(layer_dims)\n",
    "\n",
    "        self.costs = list()\n",
    "        for i in range(iters):\n",
    "            self.forward_propagation(X)\n",
    "            \n",
    "            cost = self.compute_cost(Y)\n",
    "            self.costs.append(cost)\n",
    "            \n",
    "            self.backward_propagation(Y)\n",
    "            self.update_parameters(lr)\n",
    "            if i % 1000 == 0 and printCost:\n",
    "                print(\"Cost after {} iterations: {}\".format(i, cost))\n"
   ]
  },
  {
   "cell_type": "code",
   "execution_count": 78,
   "id": "7d0ab000",
   "metadata": {},
   "outputs": [],
   "source": [
    "m1 = NNmodel()"
   ]
  },
  {
   "cell_type": "code",
   "execution_count": 84,
   "id": "f76b0000",
   "metadata": {
    "scrolled": false
   },
   "outputs": [
    {
     "name": "stdout",
     "output_type": "stream",
     "text": [
      "Cost after 0 iterations: 0.9085338182021664\n",
      "Cost after 100 iterations: 0.7182719430344903\n",
      "Cost after 200 iterations: 0.6702631380711566\n",
      "Cost after 300 iterations: 0.6546632334034909\n",
      "Cost after 400 iterations: 0.6486840417028236\n",
      "Cost after 500 iterations: 0.6461718325130388\n",
      "Cost after 600 iterations: 0.6450742748961887\n",
      "Cost after 700 iterations: 0.6453993262196266\n",
      "Cost after 800 iterations: 0.6416962704031526\n",
      "Cost after 900 iterations: 0.6296346915670978\n",
      "Cost after 1000 iterations: 0.6174728501100162\n",
      "Cost after 1100 iterations: 0.6046128217497123\n",
      "Cost after 1200 iterations: 0.5934132336585521\n",
      "Cost after 1300 iterations: 0.5811080202517278\n",
      "Cost after 1400 iterations: 0.5679697609443461\n",
      "Cost after 1500 iterations: 0.5542352879942641\n",
      "Cost after 1600 iterations: 0.5397732064747357\n",
      "Cost after 1700 iterations: 0.5246368425448251\n",
      "Cost after 1800 iterations: 0.5090112240312356\n",
      "Cost after 1900 iterations: 0.49313717381033406\n",
      "Cost after 2000 iterations: 0.47726047256236603\n",
      "Cost after 2100 iterations: 0.46156731774724546\n",
      "Cost after 2200 iterations: 0.446088105161185\n",
      "Cost after 2300 iterations: 0.43085809227999766\n",
      "Cost after 2400 iterations: 0.4161138801502288\n",
      "Cost after 2500 iterations: 0.40216262510668277\n",
      "Cost after 2600 iterations: 0.3893022379487902\n",
      "Cost after 2700 iterations: 0.37782737000111827\n",
      "Cost after 2800 iterations: 0.3677482229513713\n",
      "Cost after 2900 iterations: 0.3591507350372348\n",
      "Cost after 3000 iterations: 0.35218776007864344\n",
      "Cost after 3100 iterations: 0.345013953879785\n",
      "Cost after 3200 iterations: 0.3359974649370243\n",
      "Cost after 3300 iterations: 0.32577560284323925\n",
      "Cost after 3400 iterations: 0.3154298579175545\n",
      "Cost after 3500 iterations: 0.3054487221049393\n",
      "Cost after 3600 iterations: 0.2959942937324479\n",
      "Cost after 3700 iterations: 0.28683282798927656\n",
      "Cost after 3800 iterations: 0.27821904887221516\n",
      "Cost after 3900 iterations: 0.2697444508283672\n",
      "Cost after 4000 iterations: 0.2611822970274701\n",
      "Cost after 4100 iterations: 0.2526011972603905\n",
      "Cost after 4200 iterations: 0.24472195273717814\n",
      "Cost after 4300 iterations: 0.23666726692211845\n",
      "Cost after 4400 iterations: 0.2290517383991324\n",
      "Cost after 4500 iterations: 0.22213605157481775\n",
      "Cost after 4600 iterations: 0.21502059425310832\n",
      "Cost after 4700 iterations: 0.20884501858775306\n",
      "Cost after 4800 iterations: 0.20332643799264824\n",
      "Cost after 4900 iterations: 0.1984102768591111\n",
      "Cost after 5000 iterations: 0.19393454942689373\n",
      "Cost after 5100 iterations: 0.18979309703695768\n",
      "Cost after 5200 iterations: 0.18595789151372977\n",
      "Cost after 5300 iterations: 0.1824393514149976\n",
      "Cost after 5400 iterations: 0.1789766649732328\n",
      "Cost after 5500 iterations: 0.17582763208320212\n",
      "Cost after 5600 iterations: 0.17242801854323286\n",
      "Cost after 5700 iterations: 0.16947901244348612\n",
      "Cost after 5800 iterations: 0.16673407713031405\n",
      "Cost after 5900 iterations: 0.16269607057456612\n",
      "Cost after 6000 iterations: 0.15908222726439572\n",
      "Cost after 6100 iterations: 0.15643486079196683\n",
      "Cost after 6200 iterations: 0.1541287353493829\n",
      "Cost after 6300 iterations: 0.15191165995019437\n",
      "Cost after 6400 iterations: 0.14991802176301877\n",
      "Cost after 6500 iterations: 0.14811049356809738\n",
      "Cost after 6600 iterations: 0.1463860051088345\n",
      "Cost after 6700 iterations: 0.14462674256407246\n",
      "Cost after 6800 iterations: 0.1426132702696225\n",
      "Cost after 6900 iterations: 0.1411455343839172\n",
      "Cost after 7000 iterations: 0.1397511138845634\n",
      "Cost after 7100 iterations: 0.1384035520750547\n",
      "Cost after 7200 iterations: 0.1370864477529537\n",
      "Cost after 7300 iterations: 0.13577091974499017\n",
      "Cost after 7400 iterations: 0.1342741080624026\n",
      "Cost after 7500 iterations: 0.13214001321512517\n",
      "Cost after 7600 iterations: 0.13067987265897288\n",
      "Cost after 7700 iterations: 0.12945862697125343\n",
      "Cost after 7800 iterations: 0.12831348633175133\n",
      "Cost after 7900 iterations: 0.1272132275630506\n",
      "Cost after 8000 iterations: 0.12614806392897493\n",
      "Cost after 8100 iterations: 0.12511336057291164\n",
      "Cost after 8200 iterations: 0.12410612352351173\n",
      "Cost after 8300 iterations: 0.12312378307721458\n",
      "Cost after 8400 iterations: 0.1221637075461847\n",
      "Cost after 8500 iterations: 0.12122763690297397\n",
      "Cost after 8600 iterations: 0.12031610197145093\n",
      "Cost after 8700 iterations: 0.11942572840921303\n",
      "Cost after 8800 iterations: 0.11855459909047984\n",
      "Cost after 8900 iterations: 0.11770133076965618\n",
      "Cost after 9000 iterations: 0.1168647064744585\n",
      "Cost after 9100 iterations: 0.11604347674139319\n",
      "Cost after 9200 iterations: 0.11523615010279654\n",
      "Cost after 9300 iterations: 0.11444062144468026\n",
      "Cost after 9400 iterations: 0.11365327190512614\n",
      "Cost after 9500 iterations: 0.11286626520096402\n",
      "Cost after 9600 iterations: 0.1120571611109003\n",
      "Cost after 9700 iterations: 0.11113728783192287\n",
      "Cost after 9800 iterations: 0.10991565437115194\n",
      "Cost after 9900 iterations: 0.10892957324737214\n",
      "Cost after 10000 iterations: 0.10821026488884512\n",
      "Cost after 10100 iterations: 0.10756750711859296\n",
      "Cost after 10200 iterations: 0.10696078876780983\n",
      "Cost after 10300 iterations: 0.10637871658715374\n",
      "Cost after 10400 iterations: 0.10581608263447811\n",
      "Cost after 10500 iterations: 0.10526960811828111\n",
      "Cost after 10600 iterations: 0.1047367834024466\n",
      "Cost after 10700 iterations: 0.10421549741139449\n",
      "Cost after 10800 iterations: 0.10370397877601095\n",
      "Cost after 10900 iterations: 0.10320083158438599\n",
      "Cost after 11000 iterations: 0.10270500020656113\n",
      "Cost after 11100 iterations: 0.10221561265341478\n",
      "Cost after 11200 iterations: 0.10173177878895456\n",
      "Cost after 11300 iterations: 0.10125243822677614\n",
      "Cost after 11400 iterations: 0.10077628951340963\n",
      "Cost after 11500 iterations: 0.10030177927828882\n",
      "Cost after 11600 iterations: 0.09982711659741769\n",
      "Cost after 11700 iterations: 0.09935028455337827\n",
      "Cost after 11800 iterations: 0.0988690314145277\n",
      "Cost after 11900 iterations: 0.0983808442374101\n",
      "Cost after 12000 iterations: 0.09788292871138933\n",
      "Cost after 12100 iterations: 0.09737222251070901\n",
      "Cost after 12200 iterations: 0.0968454884474803\n",
      "Cost after 12300 iterations: 0.09629956598792172\n",
      "Cost after 12400 iterations: 0.0957318648281782\n",
      "Cost after 12500 iterations: 0.09514104840195206\n",
      "Cost after 12600 iterations: 0.09452750578665702\n",
      "Cost after 12700 iterations: 0.09389344724632089\n",
      "Cost after 12800 iterations: 0.09324250074037746\n",
      "Cost after 12900 iterations: 0.09257881134133351\n",
      "Cost after 13000 iterations: 0.09190609351639145\n",
      "Cost after 13100 iterations: 0.09122746634500437\n",
      "Cost after 13200 iterations: 0.09054564823862994\n",
      "Cost after 13300 iterations: 0.08986179851332092\n",
      "Cost after 13400 iterations: 0.08917633870312495\n",
      "Cost after 13500 iterations: 0.08848940732335099\n",
      "Cost after 13600 iterations: 0.08780105937952756\n",
      "Cost after 13700 iterations: 0.08711144962274406\n",
      "Cost after 13800 iterations: 0.08642114598893914\n",
      "Cost after 13900 iterations: 0.0857309340039009\n",
      "Cost after 14000 iterations: 0.08504134809971292\n",
      "Cost after 14100 iterations: 0.08435299215991399\n",
      "Cost after 14200 iterations: 0.08366664356132227\n",
      "Cost after 14300 iterations: 0.08298318359693795\n",
      "Cost after 14400 iterations: 0.08230353973917091\n",
      "Cost after 14500 iterations: 0.08162864432062591\n",
      "Cost after 14600 iterations: 0.08095940390500642\n",
      "Cost after 14700 iterations: 0.08029667640722458\n",
      "Cost after 14800 iterations: 0.07964125312115188\n",
      "Cost after 14900 iterations: 0.07899384138689289\n",
      "Cost after 15000 iterations: 0.07835504501150761\n",
      "Cost after 15100 iterations: 0.07772535675221003\n",
      "Cost after 15200 iterations: 0.07710518993946003\n",
      "Cost after 15300 iterations: 0.0764949153756859\n",
      "Cost after 15400 iterations: 0.07589485153464878\n",
      "Cost after 15500 iterations: 0.07530524307375577\n",
      "Cost after 15600 iterations: 0.07472625836333571\n",
      "Cost after 15700 iterations: 0.07415799735366961\n",
      "Cost after 15800 iterations: 0.07360050085173453\n",
      "Cost after 15900 iterations: 0.0730537589880188\n",
      "Cost after 16000 iterations: 0.07251771871871214\n",
      "Cost after 16100 iterations: 0.07199229048292849\n",
      "Cost after 16200 iterations: 0.07147735412222424\n",
      "Cost after 16300 iterations: 0.07097276414220695\n",
      "Cost after 16400 iterations: 0.07047835437794446\n",
      "Cost after 16500 iterations: 0.06999394211427534\n",
      "Cost after 16600 iterations: 0.06951933170637775\n",
      "Cost after 16700 iterations: 0.06905431774304822\n",
      "Cost after 16800 iterations: 0.06859868779357757\n",
      "Cost after 16900 iterations: 0.06815222477786956\n",
      "Cost after 17000 iterations: 0.06771470899779132\n"
     ]
    },
    {
     "name": "stdout",
     "output_type": "stream",
     "text": [
      "Cost after 17100 iterations: 0.06728591986483544\n",
      "Cost after 17200 iterations: 0.06686563735324035\n",
      "Cost after 17300 iterations: 0.06645364319377753\n",
      "Cost after 17400 iterations: 0.0660497217861812\n",
      "Cost after 17500 iterations: 0.06565366069722872\n",
      "Cost after 17600 iterations: 0.06526525024697645\n",
      "Cost after 17700 iterations: 0.06488428038896536\n",
      "Cost after 17800 iterations: 0.06451052876811722\n",
      "Cost after 17900 iterations: 0.06414374358592459\n",
      "Cost after 18000 iterations: 0.06378413682167845\n",
      "Cost after 18100 iterations: 0.06343271587564452\n",
      "Cost after 18200 iterations: 0.06308773327318341\n",
      "Cost after 18300 iterations: 0.06274825974969256\n",
      "Cost after 18400 iterations: 0.062414515494687364\n",
      "Cost after 18500 iterations: 0.062086558756305185\n",
      "Cost after 18600 iterations: 0.061764329962298095\n",
      "Cost after 18700 iterations: 0.06144772463418112\n",
      "Cost after 18800 iterations: 0.061136621021151846\n",
      "Cost after 18900 iterations: 0.06083089135584753\n",
      "Cost after 19000 iterations: 0.06053040701467301\n",
      "Cost after 19100 iterations: 0.0602350410749111\n",
      "Cost after 19200 iterations: 0.05994466963001891\n",
      "Cost after 19300 iterations: 0.05965917247275024\n",
      "Cost after 19400 iterations: 0.05937843345255052\n",
      "Cost after 19500 iterations: 0.059102340679266105\n",
      "Cost after 19600 iterations: 0.05883078668627493\n",
      "Cost after 19700 iterations: 0.05856366865097311\n",
      "Cost after 19800 iterations: 0.05830088879534877\n",
      "Cost after 19900 iterations: 0.05804235517632944\n"
     ]
    }
   ],
   "source": [
    "layers_dims = [12288, 20, 7, 5, 1] #  4-layer model\n",
    "m1.fit(train_x, train_y, layer_dims, lr=0.01, iters=20000, printCost=True)"
   ]
  },
  {
   "cell_type": "code",
   "execution_count": 86,
   "id": "3d0a23ae",
   "metadata": {},
   "outputs": [
    {
     "data": {
      "image/png": "[encoded data removed]",
      "text/plain": [
       "<Figure size 360x288 with 1 Axes>"
      ]
     },
     "metadata": {
      "needs_background": "light"
     },
     "output_type": "display_data"
    }
   ],
   "source": [
    "plt.plot(np.squeeze(m1.costs))\n",
    "plt.ylabel('cost')\n",
    "plt.xlabel('iterations (per tens)')\n",
    "plt.title(\"Learning rate =\" + str(0.01))\n",
    "plt.show()"
   ]
  },
  {
   "cell_type": "code",
   "execution_count": 87,
   "id": "7cf72734",
   "metadata": {},
   "outputs": [
    {
     "data": {
      "text/plain": [
       "98.08612440191388"
      ]
     },
     "execution_count": 87,
     "metadata": {},
     "output_type": "execute_result"
    }
   ],
   "source": [
    "m1.compute_accuracy(train_x, train_y)"
   ]
  },
  {
   "cell_type": "markdown",
   "id": "59570b35",
   "metadata": {},
   "source": [
    "**the result is not good because the size of training set is quite of small**"
   ]
  },
  {
   "cell_type": "code",
   "execution_count": 88,
   "id": "724964a5",
   "metadata": {
    "scrolled": true
   },
   "outputs": [
    {
     "data": {
      "text/plain": [
       "64.0"
      ]
     },
     "execution_count": 88,
     "metadata": {},
     "output_type": "execute_result"
    }
   ],
   "source": [
    "m1.compute_accuracy(test_x, test_y)"
   ]
  }
 ],
 "metadata": {
  "kernelspec": {
   "display_name": "Python 3 (ipykernel)",
   "language": "python",
   "name": "python3"
  },
  "language_info": {
   "codemirror_mode": {
    "name": "ipython",
    "version": 3
   },
   "file_extension": ".py",
   "mimetype": "text/x-python",
   "name": "python",
   "nbconvert_exporter": "python",
   "pygments_lexer": "ipython3",
   "version": "3.7.11"
  }
 },
 "nbformat": 4,
 "nbformat_minor": 5
}
