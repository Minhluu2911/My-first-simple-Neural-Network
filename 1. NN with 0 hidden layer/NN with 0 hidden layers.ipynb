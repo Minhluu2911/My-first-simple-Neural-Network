{
 "cells": [
  {
   "cell_type": "code",
   "execution_count": 1,
   "id": "911ac487",
   "metadata": {},
   "outputs": [],
   "source": [
    "import numpy as np\n",
    "import matplotlib.pyplot as plt\n",
    "import h5py\n",
    "import scipy\n",
    "from PIL import Image\n",
    "from scipy import ndimage\n",
    "import time\n",
    "\n",
    "%matplotlib inline"
   ]
  },
  {
   "cell_type": "markdown",
   "id": "5882807c",
   "metadata": {},
   "source": [
    "# Preprocessing data"
   ]
  },
  {
   "cell_type": "code",
   "execution_count": 2,
   "id": "5c55d69d",
   "metadata": {},
   "outputs": [],
   "source": [
    "def load_dataset():\n",
    "    train_dataset = h5py.File('datasets/train_catvnoncat.h5', \"r\")\n",
    "    train_set_x_orig = np.array(train_dataset[\"train_set_x\"][:]) # your train set features\n",
    "    train_set_y_orig = np.array(train_dataset[\"train_set_y\"][:]) # your train set labels\n",
    "\n",
    "    test_dataset = h5py.File('datasets/test_catvnoncat.h5', \"r\")\n",
    "    test_set_x_orig = np.array(test_dataset[\"test_set_x\"][:]) # your test set features\n",
    "    test_set_y_orig = np.array(test_dataset[\"test_set_y\"][:]) # your test set labels\n",
    "\n",
    "    classes = np.array(test_dataset[\"list_classes\"][:]) # the list of classes\n",
    "    \n",
    "    train_set_y_orig = train_set_y_orig.reshape((1, train_set_y_orig.shape[0]))\n",
    "    test_set_y_orig = test_set_y_orig.reshape((1, test_set_y_orig.shape[0]))\n",
    "    \n",
    "    return train_set_x_orig, train_set_y_orig, test_set_x_orig, test_set_y_orig, classes\n",
    "\n"
   ]
  },
  {
   "cell_type": "markdown",
   "id": "d9b365da",
   "metadata": {},
   "source": [
    "## load and show data"
   ]
  },
  {
   "cell_type": "code",
   "execution_count": 3,
   "id": "cf18d107",
   "metadata": {},
   "outputs": [],
   "source": [
    "train_set_x_orig, train_set_y_orig, test_set_x_orig, test_set_y_orig, classes = load_dataset()"
   ]
  },
  {
   "cell_type": "code",
   "execution_count": 4,
   "id": "dade05c7",
   "metadata": {},
   "outputs": [
    {
     "name": "stdout",
     "output_type": "stream",
     "text": [
      "train_set_x_orig's shape:  (209, 64, 64, 3)\n",
      "test_set_x_orig's shape:  (50, 64, 64, 3)\n",
      "train_set_y_orig's shape:  (1, 209)\n",
      "test_set_y_orig's shape:  (1, 50)\n",
      "classes's shape:  (2,)\n",
      "number of training example:  209\n",
      "number of testing example:  50\n"
     ]
    }
   ],
   "source": [
    "print(\"train_set_x_orig's shape: \", train_set_x_orig.shape)\n",
    "print(\"test_set_x_orig's shape: \", test_set_x_orig.shape)\n",
    "print(\"train_set_y_orig's shape: \", train_set_y_orig.shape)\n",
    "print(\"test_set_y_orig's shape: \", test_set_y_orig.shape)\n",
    "print(\"classes's shape: \", classes.shape)\n",
    "print(\"number of training example: \", train_set_x_orig.shape[0])\n",
    "print(\"number of testing example: \", test_set_x_orig.shape[0])"
   ]
  },
  {
   "cell_type": "code",
   "execution_count": 5,
   "id": "feb80b3c",
   "metadata": {},
   "outputs": [],
   "source": [
    "# show the image\n",
    "\n",
    "def showImg(index):\n",
    "    index = 5\n",
    "    plt.imshow(train_set_x_orig[index,:])\n",
    "    print(\"The image at index: {} is a {}'s picture.\\nWhich have y(label) = {}\".format(index, classes[np.squeeze(train_set_y_orig[:,index])].decode(), train_set_y_orig[:, index]))"
   ]
  },
  {
   "cell_type": "code",
   "execution_count": 6,
   "id": "5083bb6b",
   "metadata": {},
   "outputs": [
    {
     "name": "stdout",
     "output_type": "stream",
     "text": [
      "The image at index: 5 is a non-cat's picture.\n",
      "Which have y(label) = [0]\n"
     ]
    },
    {
     "data": {
      "image/png": "[encoded data removed]",
      "text/plain": [
       "<Figure size 432x288 with 1 Axes>"
      ]
     },
     "metadata": {
      "needs_background": "light"
     },
     "output_type": "display_data"
    }
   ],
   "source": [
    "showImg(5)"
   ]
  },
  {
   "cell_type": "markdown",
   "id": "a97af9f4",
   "metadata": {},
   "source": [
    "## flatten data and  standardize data\n",
    "- because in here 1 image has shape (64,64,3) that is height, width, color so we need to flatten image into (64\\*64\\*3,1) attributes for training model.\n",
    "- and each attribute have the value between (0,255) so we standardize it into (0,1)"
   ]
  },
  {
   "cell_type": "code",
   "execution_count": 7,
   "id": "4b24473d",
   "metadata": {},
   "outputs": [
    {
     "name": "stdout",
     "output_type": "stream",
     "text": [
      "train_set_xs shape:  (12288, 209)\n",
      "test_set_x's shape:  (12288, 50)\n",
      "number of training example:  209\n",
      "number of testing example:  50\n"
     ]
    }
   ],
   "source": [
    "train_set_x = train_set_x_orig.reshape(train_set_x_orig.shape[0],-1).T / 255\n",
    "test_set_x = test_set_x_orig.reshape(test_set_x_orig.shape[0], -1).T / 255\n",
    "\n",
    "print(\"train_set_xs shape: \", train_set_x.shape)\n",
    "print(\"test_set_x's shape: \", test_set_x.shape)\n",
    "print(\"number of training example: \", train_set_x.shape[1])\n",
    "print(\"number of testing example: \", test_set_x.shape[1])"
   ]
  },
  {
   "cell_type": "markdown",
   "id": "f302f0fd",
   "metadata": {},
   "source": [
    "$\\to$ Now we have prepare all the data for training"
   ]
  },
  {
   "cell_type": "markdown",
   "id": "450254bf",
   "metadata": {},
   "source": [
    "# Build the model\n",
    "- In here I just want to build a simple model with **no hidden layers and one output layer**. As the image shown below:\n",
    "\n",
    "<img src=\"images/LogReg_kiank.png\" style=\"width:650px;height:400px;\">\n",
    "\n",
    "## Foward propagation\n",
    "For one example $x^{(i)}$:\n",
    "$$z^{(i)} = w^T x^{(i)} + b \\tag{1}$$\n",
    "$$\\hat{y}^{(i)} = a^{(i)} = sigmoid(z^{(i)})\\tag{2}$$ \n",
    "$$ \\mathcal{L}(a^{(i)}, y^{(i)}) =  - y^{(i)}  \\log(a^{(i)}) - (1-y^{(i)} )  \\log(1-a^{(i)})\\tag{3}$$\n",
    "\n",
    "The cost is then computed by summing over all training examples:\n",
    "$$ J = \\frac{1}{m} \\sum_{i=1}^m \\mathcal{L}(a^{(i)}, y^{(i)})\\tag{4}$$\n",
    "\n",
    "## Backward propagation\n",
    "\n",
    "$$ \\frac{\\partial J}{\\partial w} = \\frac{1}{m}X(A-Y)^T\\tag{5}$$\n",
    "$$ \\frac{\\partial J}{\\partial b} = \\frac{1}{m} \\sum_{i=1}^m (a^{(i)}-y^{(i)})\\tag{6}$$\n",
    "\n",
    "## Update parameters\n",
    "- The update rule is $ \\theta = \\theta - \\alpha \\text{ } \\frac{\\partial J}{\\partial \\theta}$, where $\\alpha$ is the learning rate. In here we need to update $w$ and $b$\n",
    "\n",
    "$$w = w - \\alpha \\text{ } \\frac{\\partial J}{\\partial w}\\tag{7}$$\n",
    "\n",
    "$$b = b - \\alpha \\text{ } \\frac{\\partial J}{\\partial b}\\tag{8}$$"
   ]
  },
  {
   "cell_type": "code",
   "execution_count": 88,
   "id": "a9fdff37",
   "metadata": {},
   "outputs": [],
   "source": [
    "class NNmodel:\n",
    "    def __init__(self):\n",
    "        pass\n",
    "\n",
    "    # this use for computing output's activation layer\n",
    "    def sigmoid(self, z):\n",
    "        a = 1 / (1 + np.exp(-z))\n",
    "        return a\n",
    "\n",
    "    # in here we have no hidden layers\n",
    "    def initialize_parameters(self, n_feature):\n",
    "        w = np.zeros((n_feature,1))\n",
    "        b = np.zeros((1,1))    \n",
    "        \n",
    "        assert(w.shape == (n_feature, 1))\n",
    "        assert(b.shape == (1,1))\n",
    "        \n",
    "        return w,b\n",
    "\n",
    "    def forward_backward(self, X, Y):\n",
    "        # numbers of training examples\n",
    "        m = X.shape[1]\n",
    "        \n",
    "        # forward\n",
    "        Z = np.dot(self.w.T, X) + self.b # equation (1)\n",
    "        A = self.sigmoid(Z) # equation (2)\n",
    "        \n",
    "        # compute cost\n",
    "        cost = -1/m * (np.dot(Y, np.log(A).T) + np.dot(1-Y, np.log(1-A).T)) # equation (4)\n",
    "        cost = np.squeeze(cost) # [[cost]] -> cost\n",
    "        \n",
    "        # backward\n",
    "        dw = (1/m)*np.dot(X,(A-Y).T) # equation (5)\n",
    "        db = (1/m)*np.sum(A-Y) # equation (6)\n",
    "        \n",
    "        return dw, db, cost\n",
    "\n",
    "    def fit(self, X_train, Y_train, lr=0.01, iterations=2000):        \n",
    "        self.w, self.b = self.initialize_parameters(X_train.shape[0])\n",
    "        self.costs = []\n",
    "        \n",
    "        for i in range(iterations):\n",
    "            dw, db, cost = self.forward_backward(X_train, Y_train)\n",
    "            self.w = self.w - lr*dw # equation (7)\n",
    "            self.b = self.b - lr*db # equation (8)\n",
    "            if i % 100 == 0:\n",
    "                print(\"Cost after {} iterations: {}\".format(i, cost))\n",
    "                print()\n",
    "            self.costs.append(cost)\n",
    "        \n",
    "    def accuracy(self, X_train, Y_train, X_test, Y_test):\n",
    "        Y_prediction_train = np.round(self.sigmoid(np.dot(self.w.T, X_train) + self.b))\n",
    "        Y_prediction_test = np.round(self.sigmoid(np.dot(self.w.T, X_test) + self.b))\n",
    "        \n",
    "        accuracy_train = 100 - np.mean(np.abs(Y_prediction_train - Y_train))*100\n",
    "        accuracy_test = 100 - np.mean(np.abs(Y_prediction_test - Y_test))*100\n",
    "        \n",
    "        print(\"Accuracy on the train set: {}%\".format(accuracy_train))\n",
    "        print(\"Accuracy on the test set: {}%\".format(accuracy_test))\n",
    "    \n",
    "    def predict(self, X_test, Y_test, index):\n",
    "        z = np.dot(self.w.T, X_test[:,index]) + self.b\n",
    "        A = np.squeeze(np.round(self.sigmoid(z)))\n",
    "        plt.imshow(X_test[:,index].reshape((64,64,3)))\n",
    "        print(\"True: {}.\\tPredict: {}\".format(Y_test[:, index], A))\n",
    "    \n",
    "    def get_last_cost(self):\n",
    "        return self.costs[-1]"
   ]
  },
  {
   "cell_type": "markdown",
   "id": "320eca7d",
   "metadata": {},
   "source": [
    "## Run model"
   ]
  },
  {
   "cell_type": "code",
   "execution_count": 119,
   "id": "7b931221",
   "metadata": {},
   "outputs": [
    {
     "name": "stdout",
     "output_type": "stream",
     "text": [
      "Cost after 0 iterations: 0.6931471805599453\n",
      "\n",
      "Cost after 100 iterations: 0.823920868162269\n",
      "\n",
      "Cost after 200 iterations: 0.4189442213534804\n",
      "\n",
      "Cost after 300 iterations: 0.6173497048572023\n",
      "\n",
      "Cost after 400 iterations: 0.522115770306867\n",
      "\n",
      "Cost after 500 iterations: 0.3877087478946796\n",
      "\n",
      "Cost after 600 iterations: 0.23625445668031037\n",
      "\n",
      "Cost after 700 iterations: 0.15422213306249977\n",
      "\n",
      "Cost after 800 iterations: 0.13532782831877796\n",
      "\n",
      "Cost after 900 iterations: 0.12497148000593815\n",
      "\n",
      "Cost after 1000 iterations: 0.11647833125883057\n",
      "\n",
      "Cost after 1100 iterations: 0.10919251128302268\n",
      "\n",
      "Cost after 1200 iterations: 0.10280446418272836\n",
      "\n",
      "Cost after 1300 iterations: 0.09712981007970017\n",
      "\n",
      "Cost after 1400 iterations: 0.09204326923596717\n",
      "\n",
      "Cost after 1500 iterations: 0.08745251991704941\n",
      "\n",
      "Cost after 1600 iterations: 0.08328603053562557\n",
      "\n",
      "Cost after 1700 iterations: 0.07948657037734266\n",
      "\n",
      "Cost after 1800 iterations: 0.07600734572003641\n",
      "\n",
      "Cost after 1900 iterations: 0.07280949458435325\n",
      "\n",
      "Accuracy on the train set: 99.52153110047847%\n",
      "Accuracy on the test set: 70.0%\n"
     ]
    },
    {
     "data": {
      "image/png": "[encoded data removed]",
      "text/plain": [
       "<Figure size 432x288 with 1 Axes>"
      ]
     },
     "metadata": {
      "needs_background": "light"
     },
     "output_type": "display_data"
    }
   ],
   "source": [
    "m1 = NNmodel()\n",
    "m1.fit(train_set_x, train_set_y_orig)\n",
    "m1.accuracy(train_set_x, train_set_y_orig, test_set_x, test_set_y_orig)\n",
    "plt.plot(np.squeeze(m1.costs))\n",
    "plt.ylabel('cost')\n",
    "plt.xlabel('iterations (per hundreds)')\n",
    "plt.show()"
   ]
  },
  {
   "cell_type": "code",
   "execution_count": 103,
   "id": "9402b99a",
   "metadata": {},
   "outputs": [
    {
     "name": "stdout",
     "output_type": "stream",
     "text": [
      "True: [1].\tPredict: 1.0\n"
     ]
    },
    {
     "data": {
      "image/png": "[encoded data removed]",
      "text/plain": [
       "<Figure size 432x288 with 1 Axes>"
      ]
     },
     "metadata": {
      "needs_background": "light"
     },
     "output_type": "display_data"
    }
   ],
   "source": [
    "index = 2\n",
    "m1.predict(train_set_x, train_set_y_orig, index)"
   ]
  },
  {
   "cell_type": "code",
   "execution_count": 118,
   "id": "3f23951d",
   "metadata": {},
   "outputs": [
    {
     "name": "stdout",
     "output_type": "stream",
     "text": [
      "Cost after 0 iterations: 0.6931471805599453\n",
      "\n",
      "Cost after 100 iterations: 0.5845083636993086\n",
      "\n",
      "Cost after 200 iterations: 0.46694904094655476\n",
      "\n",
      "Cost after 300 iterations: 0.37600686694802077\n",
      "\n",
      "Cost after 400 iterations: 0.3314632893282512\n",
      "\n",
      "Cost after 500 iterations: 0.30327306747438293\n",
      "\n",
      "Cost after 600 iterations: 0.2798795865826048\n",
      "\n",
      "Cost after 700 iterations: 0.2600421369258757\n",
      "\n",
      "Cost after 800 iterations: 0.24294068467796623\n",
      "\n",
      "Cost after 900 iterations: 0.22800422256726066\n",
      "\n",
      "Cost after 1000 iterations: 0.21481951378449635\n",
      "\n",
      "Cost after 1100 iterations: 0.20307819060644988\n",
      "\n",
      "Cost after 1200 iterations: 0.1925442771670686\n",
      "\n",
      "Cost after 1300 iterations: 0.18303333796883503\n",
      "\n",
      "Cost after 1400 iterations: 0.1743985943844888\n",
      "\n",
      "Cost after 1500 iterations: 0.16652139705400332\n",
      "\n",
      "Cost after 1600 iterations: 0.15930451829756614\n",
      "\n",
      "Cost after 1700 iterations: 0.15266732471296504\n",
      "\n",
      "Cost after 1800 iterations: 0.14654223503982342\n",
      "\n",
      "Cost after 1900 iterations: 0.14087207570310162\n",
      "\n",
      "Accuracy on the train set: 99.04306220095694%\n",
      "Accuracy on the test set: 70.0%\n"
     ]
    },
    {
     "data": {
      "image/png": "[encoded data removed]",
      "text/plain": [
       "<Figure size 432x288 with 1 Axes>"
      ]
     },
     "metadata": {
      "needs_background": "light"
     },
     "output_type": "display_data"
    }
   ],
   "source": [
    "m2 = NNmodel()\n",
    "m2.fit(train_set_x, train_set_y_orig,lr=0.005, iterations=2000)\n",
    "m2.accuracy(train_set_x, train_set_y_orig, test_set_x, test_set_y_orig)\n",
    "plt.plot(np.squeeze(m2.costs))\n",
    "plt.ylabel('cost')\n",
    "plt.xlabel('iterations (per hundreds)')\n",
    "plt.show()"
   ]
  }
 ],
 "metadata": {
  "kernelspec": {
   "display_name": "Python 3 (ipykernel)",
   "language": "python",
   "name": "python3"
  },
  "language_info": {
   "codemirror_mode": {
    "name": "ipython",
    "version": 3
   },
   "file_extension": ".py",
   "mimetype": "text/x-python",
   "name": "python",
   "nbconvert_exporter": "python",
   "pygments_lexer": "ipython3",
   "version": "3.7.11"
  }
 },
 "nbformat": 4,
 "nbformat_minor": 5
}
